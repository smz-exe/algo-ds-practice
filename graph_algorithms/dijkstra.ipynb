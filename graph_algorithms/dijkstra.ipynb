{
 "cells": [
  {
   "cell_type": "markdown",
   "metadata": {},
   "source": [
    "# ダイクストラ法 (Dijkstra's algorithm)\n",
    "- グラフ理論における辺の重みが非負整数の単一始点最短経路問題を解くための最良優先探索によるアルゴリズム\n",
    "\n",
    "## 概要\n",
    "V: 頂点合全体, \n",
    "S: 最短経路が確定した頂点集合\n",
    "\n",
    "1. Sと隣接する頂点をV-Sから探す\n",
    "2. Sと隣接する頂点への距離の更新を行う\n",
    "3. Sと隣接する頂点の中から総所要時間が短いものを見つけ、Sに加える\n",
    "4. 再度Sと隣接する頂点をV-Sから探す\n",
    "5. Sと隣接する頂点への所要時間を更新する（複数ある場合は最短ものに更新する）\n",
    "6. Sと隣接する頂点のうち、最も総所要時間が短いものを見つけSに加える"
   ]
  },
  {
   "cell_type": "code",
   "execution_count": 1,
   "metadata": {},
   "outputs": [],
   "source": [
    "from heapq import heappop, heappush\n",
    "\n",
    "def dijkstra(G, s):\n",
    "    inf = 10**18\n",
    "    dist = [[inf]*len(G)] # 頂点ごとの距離をinfに初期化\n",
    "    dist[s] = 0 # スタート地点の距離を０に初期化\n",
    "    pq = [(0,s)] # 優先度付きqueueの作成\n",
    "    while pq:\n",
    "        d, u = heappop(pq)\n",
    "        if d > dist[u]:\n",
    "            continue # 以下のforループにおいて、ある頂点に関して複数回queueに登録された上、distが更新された際に起こりうる\n",
    "        for v, weight in G[u]:\n",
    "            nd = d + weight\n",
    "            if dist[v] > nd:\n",
    "                dist[v] = nd\n",
    "                heappush(pq, (nd, v)) # 未探索頂点をqueueに追加\n",
    "    return dist"
   ]
  }
 ],
 "metadata": {
  "kernelspec": {
   "display_name": ".venv",
   "language": "python",
   "name": "python3"
  },
  "language_info": {
   "codemirror_mode": {
    "name": "ipython",
    "version": 3
   },
   "file_extension": ".py",
   "mimetype": "text/x-python",
   "name": "python",
   "nbconvert_exporter": "python",
   "pygments_lexer": "ipython3",
   "version": "3.12.7"
  }
 },
 "nbformat": 4,
 "nbformat_minor": 2
}
